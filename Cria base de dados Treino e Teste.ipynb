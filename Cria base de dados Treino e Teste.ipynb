{
 "cells": [
  {
   "cell_type": "code",
   "execution_count": 1,
   "metadata": {},
   "outputs": [],
   "source": [
    "import pandas as pd\n",
    "import random"
   ]
  },
  {
   "cell_type": "code",
   "execution_count": 2,
   "metadata": {},
   "outputs": [],
   "source": [
    "# Transforma string em inteiro\n",
    "def nome_para_inteiro(nome):\n",
    "    nome = nome.upper()  # Converter para maiúsculas para tratar maiúsculas e minúsculas da mesma forma\n",
    "    valor_inteiro = 0\n",
    "    \n",
    "    for letra in nome:\n",
    "        # Verificar se a letra está no alfabeto (A a Z)\n",
    "        if 'A' <= letra <= 'Z':\n",
    "            valor_inteiro += ord(letra) - ord('A') + 1  # Valor de 'A' é 1, 'B' é 2, ..., 'Z' é 26\n",
    "    \n",
    "    return valor_inteiro"
   ]
  },
  {
   "cell_type": "code",
   "execution_count": 3,
   "metadata": {},
   "outputs": [],
   "source": [
    "# Ler o arquivo de dados\n",
    "dados = pd.read_excel('dados.xlsx')"
   ]
  },
  {
   "cell_type": "code",
   "execution_count": 4,
   "metadata": {},
   "outputs": [],
   "source": [
    "# Perguntar a quantidade de alunos no grupo (2 ou 3)\n",
    "while True:\n",
    "    try:\n",
    "        quantidade_alunos = int(input(\"Quantidade de alunos no grupo (2 ou 3): \"))\n",
    "        if quantidade_alunos in [2, 3]:\n",
    "            break\n",
    "        else:\n",
    "            print(\"Por favor, insira 2 ou 3.\")\n",
    "    except ValueError:\n",
    "        print(\"Por favor, insira um número válido.\")"
   ]
  },
  {
   "cell_type": "code",
   "execution_count": 5,
   "metadata": {},
   "outputs": [],
   "source": [
    "nome = input(\"Digite seu nome: \")\n",
    "valor_inteiro = nome_para_inteiro(nome)"
   ]
  },
  {
   "cell_type": "code",
   "execution_count": 6,
   "metadata": {},
   "outputs": [],
   "source": [
    "# Embaralhar as linhas do conjunto de dados\n",
    "dados_embaralhados = dados.sample(frac=1, random_state=valor_inteiro)"
   ]
  },
  {
   "cell_type": "code",
   "execution_count": 7,
   "metadata": {},
   "outputs": [
    {
     "data": {
      "text/html": [
       "<div>\n",
       "<style scoped>\n",
       "    .dataframe tbody tr th:only-of-type {\n",
       "        vertical-align: middle;\n",
       "    }\n",
       "\n",
       "    .dataframe tbody tr th {\n",
       "        vertical-align: top;\n",
       "    }\n",
       "\n",
       "    .dataframe thead th {\n",
       "        text-align: right;\n",
       "    }\n",
       "</style>\n",
       "<table border=\"1\" class=\"dataframe\">\n",
       "  <thead>\n",
       "    <tr style=\"text-align: right;\">\n",
       "      <th></th>\n",
       "      <th>Mensagem</th>\n",
       "    </tr>\n",
       "  </thead>\n",
       "  <tbody>\n",
       "    <tr>\n",
       "      <th>386</th>\n",
       "      <td>Não cheguei a completar a leitura do livro, te...</td>\n",
       "    </tr>\n",
       "    <tr>\n",
       "      <th>95</th>\n",
       "      <td>Péssimo. Qualidade horrível do papel, tamanho ...</td>\n",
       "    </tr>\n",
       "    <tr>\n",
       "      <th>272</th>\n",
       "      <td>Fiz a compra do produto e chegou tudo certo co...</td>\n",
       "    </tr>\n",
       "    <tr>\n",
       "      <th>6</th>\n",
       "      <td>Vetusto, tanto quanto o próprio autor, comprar...</td>\n",
       "    </tr>\n",
       "    <tr>\n",
       "      <th>571</th>\n",
       "      <td>Se soubesse não teria comprado. É bom pra apre...</td>\n",
       "    </tr>\n",
       "    <tr>\n",
       "      <th>...</th>\n",
       "      <td>...</td>\n",
       "    </tr>\n",
       "    <tr>\n",
       "      <th>805</th>\n",
       "      <td>Compreendo o atraso enorme de quase duas seman...</td>\n",
       "    </tr>\n",
       "    <tr>\n",
       "      <th>969</th>\n",
       "      <td>Muito difícil a leitura deste livro, acredito ...</td>\n",
       "    </tr>\n",
       "    <tr>\n",
       "      <th>694</th>\n",
       "      <td>terminei de ler só para poder falar o tanto qu...</td>\n",
       "    </tr>\n",
       "    <tr>\n",
       "      <th>921</th>\n",
       "      <td>Gosto demais dele pela  vasta cultura geral e ...</td>\n",
       "    </tr>\n",
       "    <tr>\n",
       "      <th>376</th>\n",
       "      <td>O que esse pessoal têm na cabeça? Os \"videntes...</td>\n",
       "    </tr>\n",
       "  </tbody>\n",
       "</table>\n",
       "<p>500 rows × 1 columns</p>\n",
       "</div>"
      ],
      "text/plain": [
       "                                              Mensagem\n",
       "386  Não cheguei a completar a leitura do livro, te...\n",
       "95   Péssimo. Qualidade horrível do papel, tamanho ...\n",
       "272  Fiz a compra do produto e chegou tudo certo co...\n",
       "6    Vetusto, tanto quanto o próprio autor, comprar...\n",
       "571  Se soubesse não teria comprado. É bom pra apre...\n",
       "..                                                 ...\n",
       "805  Compreendo o atraso enorme de quase duas seman...\n",
       "969  Muito difícil a leitura deste livro, acredito ...\n",
       "694  terminei de ler só para poder falar o tanto qu...\n",
       "921  Gosto demais dele pela  vasta cultura geral e ...\n",
       "376  O que esse pessoal têm na cabeça? Os \"videntes...\n",
       "\n",
       "[500 rows x 1 columns]"
      ]
     },
     "execution_count": 7,
     "metadata": {},
     "output_type": "execute_result"
    }
   ],
   "source": [
    "# Separar os dados de treino e teste com base na quantidade de alunos\n",
    "if quantidade_alunos == 2:\n",
    "    dados_treino = dados_embaralhados.head(300)\n",
    "    dados_teste = dados_embaralhados.tail(200)\n",
    "else:\n",
    "    dados_treino = dados_embaralhados.head(500)\n",
    "    dados_teste = dados_embaralhados.tail(250)\n",
    "    \n",
    "dados_treino.columns = ['Mensagem']\n",
    "dados_teste.columns = ['Mensagem']\n",
    "dados_treino"
   ]
  },
  {
   "cell_type": "code",
   "execution_count": 8,
   "metadata": {},
   "outputs": [
    {
     "name": "stdout",
     "output_type": "stream",
     "text": [
      "Dados de treino e teste foram salvos em 'dados_treino.xlsx' e 'dados_teste.xlsx'.\n"
     ]
    }
   ],
   "source": [
    "# Salvar os dados de treino e teste em arquivos Excel\n",
    "dados_treino.to_excel('dados_treino.xlsx', index=False, engine='openpyxl')\n",
    "dados_teste.to_excel('dados_teste.xlsx', index=False, engine='openpyxl')\n",
    "\n",
    "print(\"Dados de treino e teste foram salvos em 'dados_treino.xlsx' e 'dados_teste.xlsx'.\")"
   ]
  },
  {
   "cell_type": "code",
   "execution_count": null,
   "metadata": {},
   "outputs": [],
   "source": []
  }
 ],
 "metadata": {
  "kernelspec": {
   "display_name": "Python 3",
   "language": "python",
   "name": "python3"
  },
  "language_info": {
   "codemirror_mode": {
    "name": "ipython",
    "version": 3
   },
   "file_extension": ".py",
   "mimetype": "text/x-python",
   "name": "python",
   "nbconvert_exporter": "python",
   "pygments_lexer": "ipython3",
   "version": "3.9.12"
  }
 },
 "nbformat": 4,
 "nbformat_minor": 2
}
