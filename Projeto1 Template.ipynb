{
 "cells": [
  {
   "cell_type": "markdown",
   "metadata": {},
   "source": [
    "# Projeto 1 - Ciência dos Dados"
   ]
  },
  {
   "cell_type": "markdown",
   "metadata": {},
   "source": [
    "Nome: _____\n",
    "\n",
    "Nome: _____"
   ]
  },
  {
   "cell_type": "markdown",
   "metadata": {},
   "source": [
    "Atenção: Serão permitidos grupos de três pessoas, mas com uma rubrica mais exigente. Grupos deste tamanho precisarão fazer um questionário de avaliação de trabalho em equipe"
   ]
  },
  {
   "cell_type": "markdown",
   "metadata": {},
   "source": [
    "___\n",
    "Carregando algumas bibliotecas:"
   ]
  },
  {
   "cell_type": "code",
   "execution_count": 347,
   "metadata": {},
   "outputs": [],
   "source": [
    "%matplotlib inline\n",
    "import pandas as pd\n",
    "import matplotlib.pyplot as plt\n",
    "import numpy as np\n",
    "import os\n",
    "import re"
   ]
  },
  {
   "cell_type": "code",
   "execution_count": 348,
   "metadata": {
    "scrolled": false
   },
   "outputs": [
    {
     "name": "stdout",
     "output_type": "stream",
     "text": [
      "Esperamos trabalhar no diretório\n",
      "c:\\Users\\Victor Cunha\\Desktop\\Atividades\\C-Dados\\CDADOS - DP\\projeto1-cdados\n"
     ]
    }
   ],
   "source": [
    "print('Esperamos trabalhar no diretório')\n",
    "print(os.getcwd())"
   ]
  },
  {
   "cell_type": "markdown",
   "metadata": {},
   "source": [
    "Carregando a base de dados com os tweets classificados manualmente:"
   ]
  },
  {
   "cell_type": "code",
   "execution_count": 349,
   "metadata": {},
   "outputs": [
    {
     "data": {
      "text/html": [
       "<div>\n",
       "<style scoped>\n",
       "    .dataframe tbody tr th:only-of-type {\n",
       "        vertical-align: middle;\n",
       "    }\n",
       "\n",
       "    .dataframe tbody tr th {\n",
       "        vertical-align: top;\n",
       "    }\n",
       "\n",
       "    .dataframe thead th {\n",
       "        text-align: right;\n",
       "    }\n",
       "</style>\n",
       "<table border=\"1\" class=\"dataframe\">\n",
       "  <thead>\n",
       "    <tr style=\"text-align: right;\">\n",
       "      <th></th>\n",
       "      <th>Mensagem</th>\n",
       "      <th>Target</th>\n",
       "    </tr>\n",
       "  </thead>\n",
       "  <tbody>\n",
       "    <tr>\n",
       "      <th>0</th>\n",
       "      <td>Não cheguei a completar a leitura do livro, te...</td>\n",
       "      <td>2</td>\n",
       "    </tr>\n",
       "    <tr>\n",
       "      <th>1</th>\n",
       "      <td>Péssimo. Qualidade horrível do papel, tamanho ...</td>\n",
       "      <td>2</td>\n",
       "    </tr>\n",
       "    <tr>\n",
       "      <th>2</th>\n",
       "      <td>Fiz a compra do produto e chegou tudo certo co...</td>\n",
       "      <td>0</td>\n",
       "    </tr>\n",
       "    <tr>\n",
       "      <th>3</th>\n",
       "      <td>Vetusto, tanto quanto o próprio autor, comprar...</td>\n",
       "      <td>2</td>\n",
       "    </tr>\n",
       "    <tr>\n",
       "      <th>4</th>\n",
       "      <td>Se soubesse não teria comprado. É bom pra apre...</td>\n",
       "      <td>2</td>\n",
       "    </tr>\n",
       "  </tbody>\n",
       "</table>\n",
       "</div>"
      ],
      "text/plain": [
       "                                            Mensagem  Target\n",
       "0  Não cheguei a completar a leitura do livro, te...       2\n",
       "1  Péssimo. Qualidade horrível do papel, tamanho ...       2\n",
       "2  Fiz a compra do produto e chegou tudo certo co...       0\n",
       "3  Vetusto, tanto quanto o próprio autor, comprar...       2\n",
       "4  Se soubesse não teria comprado. É bom pra apre...       2"
      ]
     },
     "execution_count": 349,
     "metadata": {},
     "output_type": "execute_result"
    }
   ],
   "source": [
    "train = pd.read_excel('dados_treino_CLASSIFICADO.xlsx')\n",
    "train.head(5)"
   ]
  },
  {
   "cell_type": "code",
   "execution_count": 350,
   "metadata": {},
   "outputs": [
    {
     "data": {
      "text/html": [
       "<div>\n",
       "<style scoped>\n",
       "    .dataframe tbody tr th:only-of-type {\n",
       "        vertical-align: middle;\n",
       "    }\n",
       "\n",
       "    .dataframe tbody tr th {\n",
       "        vertical-align: top;\n",
       "    }\n",
       "\n",
       "    .dataframe thead th {\n",
       "        text-align: right;\n",
       "    }\n",
       "</style>\n",
       "<table border=\"1\" class=\"dataframe\">\n",
       "  <thead>\n",
       "    <tr style=\"text-align: right;\">\n",
       "      <th></th>\n",
       "      <th>Mensagem</th>\n",
       "      <th>Target</th>\n",
       "    </tr>\n",
       "  </thead>\n",
       "  <tbody>\n",
       "    <tr>\n",
       "      <th>0</th>\n",
       "      <td>Livro ruim, comparado com seu antecessor! A au...</td>\n",
       "      <td>2</td>\n",
       "    </tr>\n",
       "    <tr>\n",
       "      <th>1</th>\n",
       "      <td>O Livro é um resumo do canal Me Poupe! O Conte...</td>\n",
       "      <td>2</td>\n",
       "    </tr>\n",
       "    <tr>\n",
       "      <th>2</th>\n",
       "      <td>Desnecessário comentar. Não percam tempo. Níve...</td>\n",
       "      <td>2</td>\n",
       "    </tr>\n",
       "    <tr>\n",
       "      <th>3</th>\n",
       "      <td>Essa encomenda não veio pelos correios e chego...</td>\n",
       "      <td>0</td>\n",
       "    </tr>\n",
       "    <tr>\n",
       "      <th>4</th>\n",
       "      <td>Assim como todos os livro da Série, não curti....</td>\n",
       "      <td>2</td>\n",
       "    </tr>\n",
       "  </tbody>\n",
       "</table>\n",
       "</div>"
      ],
      "text/plain": [
       "                                            Mensagem  Target\n",
       "0  Livro ruim, comparado com seu antecessor! A au...       2\n",
       "1  O Livro é um resumo do canal Me Poupe! O Conte...       2\n",
       "2  Desnecessário comentar. Não percam tempo. Níve...       2\n",
       "3  Essa encomenda não veio pelos correios e chego...       0\n",
       "4  Assim como todos os livro da Série, não curti....       2"
      ]
     },
     "execution_count": 350,
     "metadata": {},
     "output_type": "execute_result"
    }
   ],
   "source": [
    "test = pd.read_excel('dados_teste_CLASSIFICADO.xlsx')\n",
    "test.head(5)"
   ]
  },
  {
   "cell_type": "markdown",
   "metadata": {},
   "source": [
    "___\n",
    "## Classificador automático\n"
   ]
  },
  {
   "cell_type": "markdown",
   "metadata": {},
   "source": [
    "Faça aqui uma descrição do seu assunto e o que considerou como relevante ou não relevante na classificação dos tweets (Target).\n",
    "\n",
    "ESCREVA AQUI..."
   ]
  },
  {
   "cell_type": "markdown",
   "metadata": {},
   "source": [
    "___\n",
    "### Montando um Classificador Naive-Bayes\n",
    "\n",
    "Considerando apenas as mensagens da planilha Treinamento, ensine  seu classificador."
   ]
  },
  {
   "cell_type": "code",
   "execution_count": 351,
   "metadata": {},
   "outputs": [],
   "source": [
    "import re\n",
    "\n",
    "def cleanup(text):\n",
    "    \"\"\"\n",
    "        Função de limpeza muito simples que troca alguns sinais básicos por espaços\n",
    "    \"\"\"\n",
    "    #import string\n",
    "    punctuation = '[!-.:?;]' # Note que os sinais [] são delimitadores de um conjunto.\n",
    "    pattern = re.compile(punctuation)\n",
    "    text_subbed = re.sub(pattern, '', text)\n",
    "    return text_subbed"
   ]
  },
  {
   "cell_type": "code",
   "execution_count": 352,
   "metadata": {},
   "outputs": [],
   "source": [
    "train_pos = train.loc[train['Target'] == 1, ['Mensagem']]\n",
    "train_neg = train.loc[train['Target'] == 2, ['Mensagem']]\n",
    "train_irr = train.loc[train['Target'] == 0, ['Mensagem']]\n",
    "train_all = train.loc[:,['Mensagem']]"
   ]
  },
  {
   "cell_type": "code",
   "execution_count": 353,
   "metadata": {},
   "outputs": [],
   "source": [
    "lista_train_pos = train_pos['Mensagem'].values.tolist()\n",
    "lista_train_neg = train_neg['Mensagem'].values.tolist()\n",
    "lista_train_irr = train_irr['Mensagem'].values.tolist()\n",
    "lista_train_all = train_all['Mensagem'].values.tolist()\n",
    "\n",
    "pos_clean = []\n",
    "neg_clean = []\n",
    "irr_clean = []\n",
    "train_clean = []\n",
    "\n",
    "for phrase in lista_train_pos:\n",
    "    phrase_clean = cleanup(phrase)\n",
    "    phrase_clean = phrase_clean.split()\n",
    "    for word in phrase_clean:\n",
    "        pos_clean.append(word)\n",
    "\n",
    "for phrase in lista_train_neg:\n",
    "    phrase_clean = cleanup(phrase)\n",
    "    phrase_clean = phrase_clean.split()\n",
    "    for word in phrase_clean:\n",
    "        neg_clean.append(word)\n",
    "\n",
    "for phrase in lista_train_irr:\n",
    "    phrase_clean = cleanup(phrase)\n",
    "    phrase_clean = phrase_clean.split()\n",
    "    for word in phrase_clean:\n",
    "        irr_clean.append(word)\n",
    "\n",
    "for phrase in lista_train_all:\n",
    "    phrase_clean = cleanup(phrase)\n",
    "    phrase_clean = phrase_clean.split()\n",
    "    for word in phrase_clean:\n",
    "        train_clean.append(word)\n",
    "\n",
    "pos_clean = pd.Series(pos_clean)\n",
    "neg_clean = pd.Series(neg_clean)\n",
    "irr_clean = pd.Series(irr_clean)\n",
    "train_clean = pd.Series(train_clean)"
   ]
  },
  {
   "cell_type": "code",
   "execution_count": 354,
   "metadata": {},
   "outputs": [],
   "source": [
    "prob_pos = len(pos_clean)/len(train_clean)\n",
    "prob_neg = len(neg_clean)/len(train_clean)\n",
    "prob_irr = len(irr_clean)/len(train_clean)"
   ]
  },
  {
   "cell_type": "code",
   "execution_count": 355,
   "metadata": {},
   "outputs": [],
   "source": [
    "times_pos = pos_clean.value_counts()\n",
    "times_neg = neg_clean.value_counts()\n",
    "times_irr = irr_clean.value_counts()\n",
    "times_all = train_clean.value_counts()"
   ]
  },
  {
   "cell_type": "code",
   "execution_count": 356,
   "metadata": {},
   "outputs": [],
   "source": [
    "def Classificador_LaPlace(phrase):\n",
    "    phrase = cleanup(phrase)\n",
    "    phrase = phrase.split()\n",
    "    positive = 0\n",
    "    negative = 0\n",
    "    irrelevant = 0\n",
    "    for word in phrase:\n",
    "        laplace_pos = 1\n",
    "        laplace_neg = 1\n",
    "        laplace_irr = 1\n",
    "        p = 0\n",
    "        n = 0\n",
    "        i = 0\n",
    "        if word in times_pos:\n",
    "            p = times_pos[word]\n",
    "            if p != 0:\n",
    "                laplace_pos *= ((p+1)/(len(pos_clean)+len(times_all)))\n",
    "        if word in times_neg:\n",
    "            n = times_neg[word]\n",
    "            if n != 0:\n",
    "                laplace_neg *= ((n+1)/(len(neg_clean)+len(times_all)))\n",
    "        if word in times_irr:\n",
    "            i = times_irr[word]\n",
    "            if i != 0:\n",
    "                laplace_irr *= ((i+1)/(len(irr_clean)+len(times_all)))\n",
    "        chance_list = [laplace_pos,laplace_neg,laplace_irr]\n",
    "        if laplace_pos == max(chance_list):\n",
    "            positive += 1\n",
    "        if laplace_neg == max(chance_list):\n",
    "            negative += 1\n",
    "        if laplace_irr == max(chance_list):\n",
    "            irrelevant += 1\n",
    "    list_chances = [positive,negative,irrelevant]\n",
    "    if positive == max(list_chances):\n",
    "        return 1\n",
    "    if negative == max(list_chances):\n",
    "        return 2\n",
    "    if irrelevant == max(list_chances):\n",
    "        return 0"
   ]
  },
  {
   "cell_type": "code",
   "execution_count": 357,
   "metadata": {},
   "outputs": [
    {
     "data": {
      "text/html": [
       "<div>\n",
       "<style scoped>\n",
       "    .dataframe tbody tr th:only-of-type {\n",
       "        vertical-align: middle;\n",
       "    }\n",
       "\n",
       "    .dataframe tbody tr th {\n",
       "        vertical-align: top;\n",
       "    }\n",
       "\n",
       "    .dataframe thead th {\n",
       "        text-align: right;\n",
       "    }\n",
       "</style>\n",
       "<table border=\"1\" class=\"dataframe\">\n",
       "  <thead>\n",
       "    <tr style=\"text-align: right;\">\n",
       "      <th>col_0</th>\n",
       "      <th>0</th>\n",
       "      <th>1</th>\n",
       "      <th>2</th>\n",
       "    </tr>\n",
       "    <tr>\n",
       "      <th>Target</th>\n",
       "      <th></th>\n",
       "      <th></th>\n",
       "      <th></th>\n",
       "    </tr>\n",
       "  </thead>\n",
       "  <tbody>\n",
       "    <tr>\n",
       "      <th>0</th>\n",
       "      <td>0.2</td>\n",
       "      <td>0.8</td>\n",
       "      <td>20.0</td>\n",
       "    </tr>\n",
       "    <tr>\n",
       "      <th>1</th>\n",
       "      <td>0.2</td>\n",
       "      <td>0.0</td>\n",
       "      <td>13.6</td>\n",
       "    </tr>\n",
       "    <tr>\n",
       "      <th>2</th>\n",
       "      <td>14.0</td>\n",
       "      <td>4.8</td>\n",
       "      <td>46.4</td>\n",
       "    </tr>\n",
       "  </tbody>\n",
       "</table>\n",
       "</div>"
      ],
      "text/plain": [
       "col_0      0    1     2\n",
       "Target                 \n",
       "0        0.2  0.8  20.0\n",
       "1        0.2  0.0  13.6\n",
       "2       14.0  4.8  46.4"
      ]
     },
     "execution_count": 357,
     "metadata": {},
     "output_type": "execute_result"
    }
   ],
   "source": [
    "bot_train = []\n",
    "for phrase in train['Mensagem']:\n",
    "    mensagem = Classificador_LaPlace(phrase)\n",
    "    bot_train.append(mensagem)\n",
    "pd.crosstab(train['Target'], bot_train, normalize=True)*100"
   ]
  },
  {
   "cell_type": "markdown",
   "metadata": {},
   "source": [
    "___\n",
    "### Verificando a performance do Classificador\n",
    "\n",
    "Agora você deve testar o seu classificador com a base de Testes."
   ]
  },
  {
   "cell_type": "code",
   "execution_count": 358,
   "metadata": {},
   "outputs": [],
   "source": [
    "test_pos = test.loc[test['Target'] == 1, ['Mensagem']]\n",
    "test_neg = test.loc[test['Target'] == 2, ['Mensagem']]\n",
    "test_irr = test.loc[test['Target'] == 0, ['Mensagem']]\n",
    "test_all = test.loc[:,['Mensagem']]"
   ]
  },
  {
   "cell_type": "code",
   "execution_count": 359,
   "metadata": {},
   "outputs": [],
   "source": [
    "lista_test_pos = test_pos['Mensagem'].values.tolist()\n",
    "lista_test_neg = test_neg['Mensagem'].values.tolist()\n",
    "lista_test_irr = test_irr['Mensagem'].values.tolist()\n",
    "lista_test_all = test_all['Mensagem'].values.tolist()\n",
    "\n",
    "pos_clean = []\n",
    "neg_clean = []\n",
    "irr_clean = []\n",
    "test_clean = []\n",
    "\n",
    "for phrase in lista_test_pos:\n",
    "    phrase_clean = cleanup(phrase)\n",
    "    phrase_clean = phrase_clean.split()\n",
    "    for word in phrase_clean:\n",
    "        pos_clean.append(word)\n",
    "\n",
    "for phrase in lista_test_neg:\n",
    "    phrase_clean = cleanup(phrase)\n",
    "    phrase_clean = phrase_clean.split()\n",
    "    for word in phrase_clean:\n",
    "        neg_clean.append(word)\n",
    "\n",
    "for phrase in lista_test_irr:\n",
    "    phrase_clean = cleanup(phrase)\n",
    "    phrase_clean = phrase_clean.split()\n",
    "    for word in phrase_clean:\n",
    "        irr_clean.append(word)\n",
    "\n",
    "for phrase in lista_test_all:\n",
    "    phrase_clean = cleanup(phrase)\n",
    "    phrase_clean = phrase_clean.split()\n",
    "    for word in phrase_clean:\n",
    "        test_clean.append(word)\n",
    "\n",
    "pos_clean = pd.Series(pos_clean)\n",
    "neg_clean = pd.Series(neg_clean)\n",
    "irr_clean = pd.Series(irr_clean)\n",
    "test_clean = pd.Series(test_clean)"
   ]
  },
  {
   "cell_type": "code",
   "execution_count": 360,
   "metadata": {},
   "outputs": [
    {
     "name": "stdout",
     "output_type": "stream",
     "text": [
      "0.04536607276538404\n",
      "0.7504117382841743\n",
      "0.2042221889504417\n"
     ]
    }
   ],
   "source": [
    "prob_pos = len(pos_clean)/len(test_clean)\n",
    "prob_neg = len(neg_clean)/len(test_clean)\n",
    "prob_irr = len(irr_clean)/len(test_clean)\n",
    "\n",
    "print(prob_pos)\n",
    "print(prob_neg)\n",
    "print(prob_irr)\n",
    "\n",
    "times_pos = pos_clean.value_counts()\n",
    "times_neg = neg_clean.value_counts()\n",
    "times_irr = irr_clean.value_counts()\n",
    "times_all = test_clean.value_counts()"
   ]
  },
  {
   "cell_type": "code",
   "execution_count": 361,
   "metadata": {},
   "outputs": [],
   "source": [
    "def Classificador_LaPlace(phrase):\n",
    "    phrase = cleanup(phrase)\n",
    "    phrase = phrase.split()\n",
    "    positive = 0\n",
    "    negative = 0\n",
    "    irrelevant = 0\n",
    "    for word in phrase:\n",
    "        laplace_pos = 1\n",
    "        laplace_neg = 1\n",
    "        laplace_irr = 1\n",
    "        p = 0\n",
    "        n = 0\n",
    "        i = 0\n",
    "        if word in times_pos:\n",
    "            p = times_pos[word]\n",
    "            if p != 0:\n",
    "                laplace_pos *= ((p+1)/(len(pos_clean)+len(times_all)))\n",
    "        if word in times_neg:\n",
    "            n = times_neg[word]\n",
    "            if n != 0:\n",
    "                laplace_neg *= ((n+1)/(len(neg_clean)+len(times_all)))\n",
    "        if word in times_irr:\n",
    "            i = times_irr[word]\n",
    "            if i != 0:\n",
    "                laplace_irr *= ((i+1)/(len(irr_clean)+len(times_all)))\n",
    "        chance_list = [laplace_pos,laplace_neg,laplace_irr]\n",
    "        if laplace_pos == max(chance_list):\n",
    "            positive += 1\n",
    "        if laplace_neg == max(chance_list):\n",
    "            negative += 1\n",
    "        if laplace_irr == max(chance_list):\n",
    "            irrelevant += 1\n",
    "    list_chances = [positive,negative,irrelevant]\n",
    "    if positive == max(list_chances):\n",
    "        return 1\n",
    "    if negative == max(list_chances):\n",
    "        return 2\n",
    "    if irrelevant == max(list_chances):\n",
    "        return 0"
   ]
  },
  {
   "cell_type": "code",
   "execution_count": 362,
   "metadata": {},
   "outputs": [
    {
     "name": "stdout",
     "output_type": "stream",
     "text": [
      "{'Target Bot': [2, 1, 1, 2, 2, 1, 2, 2, 2, 1, 1, 1, 2, 1, 1, 1, 1, 1, 1, 2, 1, 1, 1, 2, 1, 1, 2, 1, 2, 1, 1, 1, 1, 0, 1, 2, 1, 2, 1, 0, 1, 1, 1, 2, 2, 1, 1, 1, 2, 1, 2, 1, 2, 1, 1, 1, 1, 2, 1, 1, 2, 1, 2, 2, 1, 2, 2, 2, 2, 1, 2, 1, 1, 2, 2, 2, 1, 2, 1, 1, 1, 1, 1, 2, 2, 2, 1, 1, 1, 1, 1, 1, 1, 1, 1, 2, 1, 1, 1, 2, 2, 1, 1, 1, 1, 1, 1, 1, 1, 1, 0, 2, 1, 1, 1, 1, 1, 1, 2, 1, 1, 1, 1, 2, 2, 2, 2, 2, 1, 2, 1, 1, 2, 1, 1, 2, 1, 2, 1, 1, 1, 1, 2, 1, 1, 1, 1, 1, 2, 1, 1, 1, 2, 1, 1, 1, 2, 1, 1, 2, 0, 2, 1, 2, 2, 1, 1, 1, 2, 2, 1, 2, 1, 2, 1, 1, 1, 2, 2, 1, 1, 2, 2, 2, 2, 1, 1, 1, 1, 1, 1, 2, 2, 2, 2, 2, 1, 1, 1, 1, 2, 1, 1, 2, 1, 1, 2, 1, 1, 2, 1, 2, 2, 2, 1, 2, 1, 1, 1, 1, 1, 1, 1, 2, 1, 1, 2, 2, 1, 1, 1, 1, 1, 1, 2, 1, 2, 1, 1, 1, 2, 1, 1, 1, 1, 1, 2, 2, 2, 2]}\n"
     ]
    },
    {
     "data": {
      "text/html": [
       "<div>\n",
       "<style scoped>\n",
       "    .dataframe tbody tr th:only-of-type {\n",
       "        vertical-align: middle;\n",
       "    }\n",
       "\n",
       "    .dataframe tbody tr th {\n",
       "        vertical-align: top;\n",
       "    }\n",
       "\n",
       "    .dataframe thead th {\n",
       "        text-align: right;\n",
       "    }\n",
       "</style>\n",
       "<table border=\"1\" class=\"dataframe\">\n",
       "  <thead>\n",
       "    <tr style=\"text-align: right;\">\n",
       "      <th>col_0</th>\n",
       "      <th>0</th>\n",
       "      <th>1</th>\n",
       "      <th>2</th>\n",
       "    </tr>\n",
       "    <tr>\n",
       "      <th>Target</th>\n",
       "      <th></th>\n",
       "      <th></th>\n",
       "      <th></th>\n",
       "    </tr>\n",
       "  </thead>\n",
       "  <tbody>\n",
       "    <tr>\n",
       "      <th>0</th>\n",
       "      <td>0.0</td>\n",
       "      <td>4.4</td>\n",
       "      <td>14.4</td>\n",
       "    </tr>\n",
       "    <tr>\n",
       "      <th>1</th>\n",
       "      <td>0.0</td>\n",
       "      <td>0.0</td>\n",
       "      <td>3.6</td>\n",
       "    </tr>\n",
       "    <tr>\n",
       "      <th>2</th>\n",
       "      <td>1.6</td>\n",
       "      <td>58.4</td>\n",
       "      <td>17.6</td>\n",
       "    </tr>\n",
       "  </tbody>\n",
       "</table>\n",
       "</div>"
      ],
      "text/plain": [
       "col_0     0     1     2\n",
       "Target                 \n",
       "0       0.0   4.4  14.4\n",
       "1       0.0   0.0   3.6\n",
       "2       1.6  58.4  17.6"
      ]
     },
     "execution_count": 362,
     "metadata": {},
     "output_type": "execute_result"
    }
   ],
   "source": [
    "bot_test = {\"Target Bot\": []}\n",
    "for phrase in test['Mensagem']:\n",
    "    mensagem = Classificador_LaPlace(phrase)\n",
    "    bot_test[\"Target Bot\"].append(mensagem)\n",
    "pd.crosstab(test['Target'], bot_test['Target Bot'], normalize=True)*100"
   ]
  },
  {
   "cell_type": "markdown",
   "metadata": {},
   "source": [
    "___\n",
    "### Concluindo"
   ]
  },
  {
   "cell_type": "code",
   "execution_count": null,
   "metadata": {},
   "outputs": [],
   "source": []
  },
  {
   "cell_type": "code",
   "execution_count": null,
   "metadata": {},
   "outputs": [],
   "source": []
  },
  {
   "cell_type": "code",
   "execution_count": null,
   "metadata": {},
   "outputs": [],
   "source": []
  },
  {
   "cell_type": "markdown",
   "metadata": {},
   "source": [
    "___\n",
    "### Qualidade do Classificador a partir de novas separações dos tweets entre Treinamento e Teste\n",
    "\n",
    "Caso for fazer esse item do Projeto"
   ]
  },
  {
   "cell_type": "code",
   "execution_count": null,
   "metadata": {},
   "outputs": [],
   "source": []
  },
  {
   "cell_type": "code",
   "execution_count": null,
   "metadata": {},
   "outputs": [],
   "source": []
  },
  {
   "cell_type": "code",
   "execution_count": null,
   "metadata": {},
   "outputs": [],
   "source": []
  },
  {
   "cell_type": "markdown",
   "metadata": {},
   "source": [
    "___\n",
    "## Aperfeiçoamento:\n",
    "\n",
    "Trabalhos que conseguirem pelo menos conceito B vão evoluir em conceito dependendo da quantidade de itens avançados:\n",
    "\n",
    "* IMPLEMENTOU outras limpezas e transformações que não afetem a qualidade da informação contida nos tweets. Ex: stemming, lemmatization, stopwords\n",
    "* CONSIDEROU mais de duas categorias na variável Target e INCREMENTOU a quantidade de notícias, mantendo pelo menos 250 notícias por categoria (OBRIGATÓRIO PARA TRIOS, sem contar como item avançado)\n",
    "* Para Target com duas categorias: CRIOU pelo menos quatro categorias intermediárias de relevância baseadas na probabilidade: ex.: muito relevante, relevante, neutro, irrelevante, muito irrelevante\n",
    "* EXPLICOU porquê não pode usar o próprio classificador para gerar mais amostras de treinamento\n",
    "* PROPÔS diferentes cenários para Naïve Bayes fora do contexto do projeto (pelo menos dois cenários, exceto aqueles já apresentados em sala pelos professores: por exemplo, filtro de spam)\n",
    "* SUGERIU e EXPLICOU melhorias reais com indicações concretas de como implementar (indicar como fazer e indicar material de pesquisa)\n",
    "* FEZ o item Qualidade do Classificador a partir de novas separações das Notícias entre Treinamento e Teste descrito no enunciado do projeto (OBRIGATÓRIO para conceitos A ou A+)"
   ]
  },
  {
   "cell_type": "markdown",
   "metadata": {},
   "source": [
    "___\n",
    "## Referências"
   ]
  },
  {
   "cell_type": "markdown",
   "metadata": {},
   "source": [
    "[Naive Bayes and Text Classification](https://arxiv.org/pdf/1410.5329.pdf)  **Mais completo**\n",
    "\n",
    "[A practical explanation of a Naive Bayes Classifier](https://monkeylearn.com/blog/practical-explanation-naive-bayes-classifier/) **Mais simples**"
   ]
  },
  {
   "cell_type": "code",
   "execution_count": null,
   "metadata": {},
   "outputs": [],
   "source": []
  }
 ],
 "metadata": {
  "kernelspec": {
   "display_name": "Python 3",
   "language": "python",
   "name": "python3"
  },
  "language_info": {
   "codemirror_mode": {
    "name": "ipython",
    "version": 3
   },
   "file_extension": ".py",
   "mimetype": "text/x-python",
   "name": "python",
   "nbconvert_exporter": "python",
   "pygments_lexer": "ipython3",
   "version": "3.9.12"
  }
 },
 "nbformat": 4,
 "nbformat_minor": 4
}
