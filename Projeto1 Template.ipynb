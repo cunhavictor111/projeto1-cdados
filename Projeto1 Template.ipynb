{
 "cells": [
  {
   "cell_type": "markdown",
   "metadata": {},
   "source": [
    "# Projeto 1 - Ciência dos Dados"
   ]
  },
  {
   "cell_type": "markdown",
   "metadata": {},
   "source": [
    "Nome: _____\n",
    "\n",
    "Nome: _____"
   ]
  },
  {
   "cell_type": "markdown",
   "metadata": {},
   "source": [
    "Atenção: Serão permitidos grupos de três pessoas, mas com uma rubrica mais exigente. Grupos deste tamanho precisarão fazer um questionário de avaliação de trabalho em equipe"
   ]
  },
  {
   "cell_type": "markdown",
   "metadata": {},
   "source": [
    "___\n",
    "Carregando algumas bibliotecas:"
   ]
  },
  {
   "cell_type": "code",
   "execution_count": 399,
   "metadata": {},
   "outputs": [],
   "source": [
    "%matplotlib inline\n",
    "import pandas as pd\n",
    "import matplotlib.pyplot as plt\n",
    "import numpy as np\n",
    "import os\n",
    "import re"
   ]
  },
  {
   "cell_type": "code",
   "execution_count": 400,
   "metadata": {
    "scrolled": false
   },
   "outputs": [
    {
     "name": "stdout",
     "output_type": "stream",
     "text": [
      "Esperamos trabalhar no diretório\n",
      "c:\\Users\\Victor Cunha\\Desktop\\Atividades\\C-Dados\\CDADOS - DP\\projeto1-cdados\n"
     ]
    }
   ],
   "source": [
    "print('Esperamos trabalhar no diretório')\n",
    "print(os.getcwd())"
   ]
  },
  {
   "cell_type": "markdown",
   "metadata": {},
   "source": [
    "Carregando a base de dados com os tweets classificados manualmente:"
   ]
  },
  {
   "cell_type": "code",
   "execution_count": 401,
   "metadata": {},
   "outputs": [
    {
     "data": {
      "text/html": [
       "<div>\n",
       "<style scoped>\n",
       "    .dataframe tbody tr th:only-of-type {\n",
       "        vertical-align: middle;\n",
       "    }\n",
       "\n",
       "    .dataframe tbody tr th {\n",
       "        vertical-align: top;\n",
       "    }\n",
       "\n",
       "    .dataframe thead th {\n",
       "        text-align: right;\n",
       "    }\n",
       "</style>\n",
       "<table border=\"1\" class=\"dataframe\">\n",
       "  <thead>\n",
       "    <tr style=\"text-align: right;\">\n",
       "      <th></th>\n",
       "      <th>Mensagem</th>\n",
       "      <th>Target</th>\n",
       "    </tr>\n",
       "  </thead>\n",
       "  <tbody>\n",
       "    <tr>\n",
       "      <th>0</th>\n",
       "      <td>Não cheguei a completar a leitura do livro, te...</td>\n",
       "      <td>2</td>\n",
       "    </tr>\n",
       "    <tr>\n",
       "      <th>1</th>\n",
       "      <td>Péssimo. Qualidade horrível do papel, tamanho ...</td>\n",
       "      <td>2</td>\n",
       "    </tr>\n",
       "    <tr>\n",
       "      <th>2</th>\n",
       "      <td>Fiz a compra do produto e chegou tudo certo co...</td>\n",
       "      <td>0</td>\n",
       "    </tr>\n",
       "    <tr>\n",
       "      <th>3</th>\n",
       "      <td>Vetusto, tanto quanto o próprio autor, comprar...</td>\n",
       "      <td>2</td>\n",
       "    </tr>\n",
       "    <tr>\n",
       "      <th>4</th>\n",
       "      <td>Se soubesse não teria comprado. É bom pra apre...</td>\n",
       "      <td>2</td>\n",
       "    </tr>\n",
       "  </tbody>\n",
       "</table>\n",
       "</div>"
      ],
      "text/plain": [
       "                                            Mensagem  Target\n",
       "0  Não cheguei a completar a leitura do livro, te...       2\n",
       "1  Péssimo. Qualidade horrível do papel, tamanho ...       2\n",
       "2  Fiz a compra do produto e chegou tudo certo co...       0\n",
       "3  Vetusto, tanto quanto o próprio autor, comprar...       2\n",
       "4  Se soubesse não teria comprado. É bom pra apre...       2"
      ]
     },
     "execution_count": 401,
     "metadata": {},
     "output_type": "execute_result"
    }
   ],
   "source": [
    "train = pd.read_excel('dados_treino_CLASSIFICADO.xlsx')\n",
    "train.head(5)"
   ]
  },
  {
   "cell_type": "code",
   "execution_count": 402,
   "metadata": {},
   "outputs": [
    {
     "data": {
      "text/html": [
       "<div>\n",
       "<style scoped>\n",
       "    .dataframe tbody tr th:only-of-type {\n",
       "        vertical-align: middle;\n",
       "    }\n",
       "\n",
       "    .dataframe tbody tr th {\n",
       "        vertical-align: top;\n",
       "    }\n",
       "\n",
       "    .dataframe thead th {\n",
       "        text-align: right;\n",
       "    }\n",
       "</style>\n",
       "<table border=\"1\" class=\"dataframe\">\n",
       "  <thead>\n",
       "    <tr style=\"text-align: right;\">\n",
       "      <th></th>\n",
       "      <th>Mensagem</th>\n",
       "      <th>Target</th>\n",
       "    </tr>\n",
       "  </thead>\n",
       "  <tbody>\n",
       "    <tr>\n",
       "      <th>0</th>\n",
       "      <td>Livro ruim, comparado com seu antecessor! A au...</td>\n",
       "      <td>2</td>\n",
       "    </tr>\n",
       "    <tr>\n",
       "      <th>1</th>\n",
       "      <td>O Livro é um resumo do canal Me Poupe! O Conte...</td>\n",
       "      <td>2</td>\n",
       "    </tr>\n",
       "    <tr>\n",
       "      <th>2</th>\n",
       "      <td>Desnecessário comentar. Não percam tempo. Níve...</td>\n",
       "      <td>2</td>\n",
       "    </tr>\n",
       "    <tr>\n",
       "      <th>3</th>\n",
       "      <td>Essa encomenda não veio pelos correios e chego...</td>\n",
       "      <td>0</td>\n",
       "    </tr>\n",
       "    <tr>\n",
       "      <th>4</th>\n",
       "      <td>Assim como todos os livro da Série, não curti....</td>\n",
       "      <td>2</td>\n",
       "    </tr>\n",
       "  </tbody>\n",
       "</table>\n",
       "</div>"
      ],
      "text/plain": [
       "                                            Mensagem  Target\n",
       "0  Livro ruim, comparado com seu antecessor! A au...       2\n",
       "1  O Livro é um resumo do canal Me Poupe! O Conte...       2\n",
       "2  Desnecessário comentar. Não percam tempo. Níve...       2\n",
       "3  Essa encomenda não veio pelos correios e chego...       0\n",
       "4  Assim como todos os livro da Série, não curti....       2"
      ]
     },
     "execution_count": 402,
     "metadata": {},
     "output_type": "execute_result"
    }
   ],
   "source": [
    "test = pd.read_excel('dados_teste_CLASSIFICADO.xlsx')\n",
    "test.head(5)"
   ]
  },
  {
   "cell_type": "markdown",
   "metadata": {},
   "source": [
    "___\n",
    "## Classificador automático\n"
   ]
  },
  {
   "cell_type": "markdown",
   "metadata": {},
   "source": [
    "Faça aqui uma descrição do seu assunto e o que considerou como relevante ou não relevante na classificação dos tweets (Target).\n",
    "\n",
    "ESCREVA AQUI..."
   ]
  },
  {
   "cell_type": "markdown",
   "metadata": {},
   "source": [
    "___\n",
    "### Montando um Classificador Naive-Bayes\n",
    "\n",
    "Considerando apenas as mensagens da planilha Treinamento, ensine  seu classificador."
   ]
  },
  {
   "cell_type": "code",
   "execution_count": 403,
   "metadata": {},
   "outputs": [],
   "source": [
    "def cleanup(text):\n",
    "    \"\"\"\n",
    "        Função de limpeza muito simples que troca alguns sinais básicos por espaços\n",
    "    \"\"\"\n",
    "    #import string\n",
    "    punctuation = '[´\"!-.:?;$'']' # Note que os sinais [] são delimitadores de um conjunto.\n",
    "    pattern = re.compile(punctuation)\n",
    "    text_subbed = re.sub(pattern, '', text)\n",
    "    return text_subbed\n",
    "\n",
    "def limpaStopwords(phrase):\n",
    "    # Importação de uma lista de stopwords para minimizar palavras desnecessárias\n",
    "    stop_words = ['e', 'a', 'o','de','da', 'em','do', 'as', 'dos', 'das', 'no', 'na', 'quem', 'ao', 'que', 'sua','seu', 'por', 'uma', \n",
    "    'um', 'os', 'se','sobre', 'mas','são','entre', 'assim', 'esse', 'essa', 'diz', 'deve', 'anos', 'dia', 't', 'mi', 'nesta','neste','nesse','nessa', 'aos', 'com', 'já', 'para', 'mais','após','no','pelo', 'antes','depois', 'nos',\n",
    "    'é', 'pela', 'desta','se','sobre', 'mas','são', 'que']\n",
    "    frase = phrase.split()\n",
    "    sem_stop = ''\n",
    "    for word in frase:\n",
    "        if word in stop_words:\n",
    "            frase.remove(word)\n",
    "        else:\n",
    "            sem_stop += word + ' '\n",
    "    return sem_stop"
   ]
  },
  {
   "cell_type": "code",
   "execution_count": 417,
   "metadata": {},
   "outputs": [
    {
     "data": {
      "text/html": [
       "<div>\n",
       "<style scoped>\n",
       "    .dataframe tbody tr th:only-of-type {\n",
       "        vertical-align: middle;\n",
       "    }\n",
       "\n",
       "    .dataframe tbody tr th {\n",
       "        vertical-align: top;\n",
       "    }\n",
       "\n",
       "    .dataframe thead th {\n",
       "        text-align: right;\n",
       "    }\n",
       "</style>\n",
       "<table border=\"1\" class=\"dataframe\">\n",
       "  <thead>\n",
       "    <tr style=\"text-align: right;\">\n",
       "      <th></th>\n",
       "      <th>Mensagem</th>\n",
       "    </tr>\n",
       "  </thead>\n",
       "  <tbody>\n",
       "    <tr>\n",
       "      <th>0</th>\n",
       "      <td>Não cheguei a completar a leitura do livro, te...</td>\n",
       "    </tr>\n",
       "    <tr>\n",
       "      <th>1</th>\n",
       "      <td>Péssimo. Qualidade horrível do papel, tamanho ...</td>\n",
       "    </tr>\n",
       "    <tr>\n",
       "      <th>2</th>\n",
       "      <td>Fiz a compra do produto e chegou tudo certo co...</td>\n",
       "    </tr>\n",
       "    <tr>\n",
       "      <th>3</th>\n",
       "      <td>Vetusto, tanto quanto o próprio autor, comprar...</td>\n",
       "    </tr>\n",
       "    <tr>\n",
       "      <th>4</th>\n",
       "      <td>Se soubesse não teria comprado. É bom pra apre...</td>\n",
       "    </tr>\n",
       "  </tbody>\n",
       "</table>\n",
       "</div>"
      ],
      "text/plain": [
       "                                            Mensagem\n",
       "0  Não cheguei a completar a leitura do livro, te...\n",
       "1  Péssimo. Qualidade horrível do papel, tamanho ...\n",
       "2  Fiz a compra do produto e chegou tudo certo co...\n",
       "3  Vetusto, tanto quanto o próprio autor, comprar...\n",
       "4  Se soubesse não teria comprado. É bom pra apre..."
      ]
     },
     "execution_count": 417,
     "metadata": {},
     "output_type": "execute_result"
    }
   ],
   "source": [
    "train_pos = train.loc[train['Target'] == 1, ['Mensagem']]\n",
    "train_neg = train.loc[train['Target'] == 2, ['Mensagem']]\n",
    "train_irr = train.loc[train['Target'] == 0, ['Mensagem']]\n",
    "train_all = train.loc[:,['Mensagem']]"
   ]
  },
  {
   "cell_type": "code",
   "execution_count": 418,
   "metadata": {},
   "outputs": [],
   "source": [
    "all_words = []\n",
    "\n",
    "for review in train_all['Mensagem']:\n",
    "    review = cleanup(review)\n",
    "    review = limpaStopwords(review)\n",
    "    words_review = review.split()\n",
    "    for word in words_review:\n",
    "        if word not in all_words:\n",
    "            all_words.append(word)\n",
    "\n",
    "word_probability_total = {}\n",
    "\n",
    "for word in all_words:\n",
    "    count_word = 0\n",
    "    for review in train_all['Mensagem']:\n",
    "        review = cleanup(review)\n",
    "        review = limpaStopwords(review)\n",
    "        words_review = review.split()\n",
    "        if word in words_review:\n",
    "            count_word += 1\n",
    "    prob_appearance = count_word/len(train_all['Mensagem'])\n",
    "    word_probability_total[word] = prob_appearance"
   ]
  },
  {
   "cell_type": "code",
   "execution_count": 420,
   "metadata": {},
   "outputs": [],
   "source": [
    "all_words_positive = []\n",
    "\n",
    "for review in train_pos['Mensagem']:\n",
    "    review = cleanup(review)\n",
    "    review = limpaStopwords(review)\n",
    "    words_review = review.split()\n",
    "    for word in words_review:\n",
    "        if word not in all_words_positive:\n",
    "            all_words_positive.append(word)\n",
    "\n",
    "word_probability_positive = {}\n",
    "\n",
    "for word in all_words_positive:\n",
    "    count_word = 0\n",
    "    for review in train_pos['Mensagem']:\n",
    "        review = cleanup(review)\n",
    "        review = limpaStopwords(review)\n",
    "        words_review = review.split()\n",
    "        if word in words_review:\n",
    "            count_word += 1\n",
    "    prob_appearance = count_word/len(train_pos['Mensagem'])\n",
    "    word_probability_positive[word] = prob_appearance"
   ]
  },
  {
   "cell_type": "code",
   "execution_count": 421,
   "metadata": {},
   "outputs": [],
   "source": [
    "all_words_negative = []\n",
    "\n",
    "for review in train_neg['Mensagem']:\n",
    "    review = cleanup(review)\n",
    "    review = limpaStopwords(review)\n",
    "    words_review = review.split()\n",
    "    for word in words_review:\n",
    "        if word not in all_words_negative:\n",
    "            all_words_negative.append(word)\n",
    "\n",
    "word_probability_negative = {}\n",
    "\n",
    "for word in all_words_negative:\n",
    "    count_word = 0\n",
    "    for review in train_neg['Mensagem']:\n",
    "        review = cleanup(review)\n",
    "        review = limpaStopwords(review)\n",
    "        words_review = review.split()\n",
    "        if word in words_review:\n",
    "            count_word += 1\n",
    "    prob_appearance = count_word/len(train_neg['Mensagem'])\n",
    "    word_probability_negative[word] = prob_appearance"
   ]
  },
  {
   "cell_type": "code",
   "execution_count": 422,
   "metadata": {},
   "outputs": [],
   "source": [
    "all_words_irrelevant = []\n",
    "\n",
    "for review in train_irr['Mensagem']:\n",
    "    review = cleanup(review)\n",
    "    review = limpaStopwords(review)\n",
    "    words_review = review.split()\n",
    "    for word in words_review:\n",
    "        if word not in all_words_irrelevant:\n",
    "            all_words_irrelevant.append(word)\n",
    "\n",
    "word_probability_irrelevant = {}\n",
    "\n",
    "for word in all_words_irrelevant:\n",
    "    count_word = 0\n",
    "    for review in train_irr['Mensagem']:\n",
    "        review = cleanup(review)\n",
    "        review = limpaStopwords(review)\n",
    "        words_review = review.split()\n",
    "        if word in words_review:\n",
    "            count_word += 1\n",
    "    prob_appearance = count_word/len(train_irr['Mensagem'])\n",
    "    word_probability_irrelevant[word] = prob_appearance"
   ]
  },
  {
   "cell_type": "code",
   "execution_count": 423,
   "metadata": {},
   "outputs": [
    {
     "name": "stdout",
     "output_type": "stream",
     "text": [
      "0.138\n",
      "0.652\n",
      "0.21\n"
     ]
    }
   ],
   "source": [
    "positive_review_probability = len(train_pos['Mensagem'])/len(train_all['Mensagem'])\n",
    "negative_review_probability = len(train_neg['Mensagem'])/len(train_all['Mensagem'])\n",
    "irrelevant_review_probability = len(train_irr['Mensagem'])/len(train_all['Mensagem'])"
   ]
  },
  {
   "cell_type": "code",
   "execution_count": 426,
   "metadata": {},
   "outputs": [],
   "source": [
    "def Classificador_Treino(phrase) -> int:\n",
    "    phrase = cleanup(phrase)\n",
    "    phrase = limpaStopwords(phrase)\n",
    "    words_in_review = phrase.split()\n",
    "    prob_positive = 1\n",
    "    prob_negative = 1\n",
    "    prob_irrelevant = 1\n",
    "    for word in words_in_review:\n",
    "        if word in all_words_positive:\n",
    "            prob_positive *= word_probability_positive[word]/word_probability_total[word]\n",
    "        if word in all_words_negative:\n",
    "            prob_negative *= word_probability_negative[word]/word_probability_total[word]\n",
    "        if word in all_words_irrelevant:\n",
    "            prob_irrelevant *= word_probability_irrelevant[word]/word_probability_total[word]\n",
    "\n",
    "    prob_positive *= positive_review_probability\n",
    "    prob_negative *= negative_review_probability\n",
    "    prob_irrelevant *= irrelevant_review_probability\n",
    "\n",
    "    chances = [prob_positive,prob_negative,prob_irrelevant]\n",
    "    if prob_positive == max(chances):\n",
    "        return 1\n",
    "    if prob_negative == max(chances):\n",
    "        return 2\n",
    "    if prob_irrelevant == max(chances):\n",
    "        return 0"
   ]
  },
  {
   "cell_type": "code",
   "execution_count": 427,
   "metadata": {},
   "outputs": [
    {
     "data": {
      "text/html": [
       "<div>\n",
       "<style scoped>\n",
       "    .dataframe tbody tr th:only-of-type {\n",
       "        vertical-align: middle;\n",
       "    }\n",
       "\n",
       "    .dataframe tbody tr th {\n",
       "        vertical-align: top;\n",
       "    }\n",
       "\n",
       "    .dataframe thead th {\n",
       "        text-align: right;\n",
       "    }\n",
       "</style>\n",
       "<table border=\"1\" class=\"dataframe\">\n",
       "  <thead>\n",
       "    <tr style=\"text-align: right;\">\n",
       "      <th>col_0</th>\n",
       "      <th>0</th>\n",
       "      <th>1</th>\n",
       "      <th>2</th>\n",
       "    </tr>\n",
       "    <tr>\n",
       "      <th>Target</th>\n",
       "      <th></th>\n",
       "      <th></th>\n",
       "      <th></th>\n",
       "    </tr>\n",
       "  </thead>\n",
       "  <tbody>\n",
       "    <tr>\n",
       "      <th>0</th>\n",
       "      <td>20.6</td>\n",
       "      <td>0.4</td>\n",
       "      <td>0.0</td>\n",
       "    </tr>\n",
       "    <tr>\n",
       "      <th>1</th>\n",
       "      <td>0.0</td>\n",
       "      <td>13.8</td>\n",
       "      <td>0.0</td>\n",
       "    </tr>\n",
       "    <tr>\n",
       "      <th>2</th>\n",
       "      <td>2.8</td>\n",
       "      <td>14.8</td>\n",
       "      <td>47.6</td>\n",
       "    </tr>\n",
       "  </tbody>\n",
       "</table>\n",
       "</div>"
      ],
      "text/plain": [
       "col_0      0     1     2\n",
       "Target                  \n",
       "0       20.6   0.4   0.0\n",
       "1        0.0  13.8   0.0\n",
       "2        2.8  14.8  47.6"
      ]
     },
     "execution_count": 427,
     "metadata": {},
     "output_type": "execute_result"
    }
   ],
   "source": [
    "bot_train = []\n",
    "for review in train_all['Mensagem']:\n",
    "    classification = Classificador_Treino(review)\n",
    "    bot_train.append(classification)\n",
    "pd.crosstab(train['Target'],bot_train,normalize=True)*100"
   ]
  },
  {
   "cell_type": "markdown",
   "metadata": {},
   "source": [
    "___\n",
    "### Verificando a performance do Classificador\n",
    "\n",
    "Agora você deve testar o seu classificador com a base de Testes."
   ]
  },
  {
   "cell_type": "code",
   "execution_count": 428,
   "metadata": {},
   "outputs": [],
   "source": [
    "test_pos = test.loc[test['Target'] == 1, ['Mensagem']]\n",
    "test_neg = test.loc[test['Target'] == 2, ['Mensagem']]\n",
    "test_irr = test.loc[test['Target'] == 0, ['Mensagem']]\n",
    "test_all = test.loc[:,['Mensagem']]"
   ]
  },
  {
   "cell_type": "code",
   "execution_count": 429,
   "metadata": {},
   "outputs": [],
   "source": [
    "all_words = []\n",
    "\n",
    "for review in test_all['Mensagem']:\n",
    "    review = cleanup(review)\n",
    "    review = limpaStopwords(review)\n",
    "    words_review = review.split()\n",
    "    for word in words_review:\n",
    "        if word not in all_words:\n",
    "            all_words.append(word)\n",
    "\n",
    "word_probability_total = {}\n",
    "\n",
    "for word in all_words:\n",
    "    count_word = 0\n",
    "    for review in test_all['Mensagem']:\n",
    "        review = cleanup(review)\n",
    "        review = limpaStopwords(review)\n",
    "        words_review = review.split()\n",
    "        if word in words_review:\n",
    "            count_word += 1\n",
    "    prob_appearance = count_word/len(test_all['Mensagem'])\n",
    "    word_probability_total[word] = prob_appearance"
   ]
  },
  {
   "cell_type": "code",
   "execution_count": 430,
   "metadata": {},
   "outputs": [],
   "source": [
    "all_words_positive = []\n",
    "\n",
    "for review in test_pos['Mensagem']:\n",
    "    review = cleanup(review)\n",
    "    review = limpaStopwords(review)\n",
    "    words_review = review.split()\n",
    "    for word in words_review:\n",
    "        if word not in all_words_positive:\n",
    "            all_words_positive.append(word)\n",
    "\n",
    "word_probability_positive = {}\n",
    "\n",
    "for word in all_words_positive:\n",
    "    count_word = 0\n",
    "    for review in test_pos['Mensagem']:\n",
    "        review = cleanup(review)\n",
    "        review = limpaStopwords(review)\n",
    "        words_review = review.split()\n",
    "        if word in words_review:\n",
    "            count_word += 1\n",
    "    prob_appearance = count_word/len(test_pos['Mensagem'])\n",
    "    word_probability_positive[word] = prob_appearance"
   ]
  },
  {
   "cell_type": "code",
   "execution_count": 431,
   "metadata": {},
   "outputs": [],
   "source": [
    "all_words_negative = []\n",
    "\n",
    "for review in test_neg['Mensagem']:\n",
    "    review = cleanup(review)\n",
    "    review = limpaStopwords(review)\n",
    "    words_review = review.split()\n",
    "    for word in words_review:\n",
    "        if word not in all_words_negative:\n",
    "            all_words_negative.append(word)\n",
    "\n",
    "word_probability_negative = {}\n",
    "\n",
    "for word in all_words_negative:\n",
    "    count_word = 0\n",
    "    for review in test_neg['Mensagem']:\n",
    "        review = cleanup(review)\n",
    "        review = limpaStopwords(review)\n",
    "        words_review = review.split()\n",
    "        if word in words_review:\n",
    "            count_word += 1\n",
    "    prob_appearance = count_word/len(test_neg['Mensagem'])\n",
    "    word_probability_negative[word] = prob_appearance"
   ]
  },
  {
   "cell_type": "code",
   "execution_count": 432,
   "metadata": {},
   "outputs": [],
   "source": [
    "all_words_irrelevant = []\n",
    "\n",
    "for review in test_irr['Mensagem']:\n",
    "    review = cleanup(review)\n",
    "    review = limpaStopwords(review)\n",
    "    words_review = review.split()\n",
    "    for word in words_review:\n",
    "        if word not in all_words_irrelevant:\n",
    "            all_words_irrelevant.append(word)\n",
    "\n",
    "word_probability_irrelevant = {}\n",
    "\n",
    "for word in all_words_irrelevant:\n",
    "    count_word = 0\n",
    "    for review in test_irr['Mensagem']:\n",
    "        review = cleanup(review)\n",
    "        review = limpaStopwords(review)\n",
    "        words_review = review.split()\n",
    "        if word in words_review:\n",
    "            count_word += 1\n",
    "    prob_appearance = count_word/len(test_irr['Mensagem'])\n",
    "    word_probability_irrelevant[word] = prob_appearance"
   ]
  },
  {
   "cell_type": "code",
   "execution_count": 433,
   "metadata": {},
   "outputs": [],
   "source": [
    "positive_review_probability = len(test_pos['Mensagem'])/len(test_all['Mensagem'])\n",
    "negative_review_probability = len(test_neg['Mensagem'])/len(test_all['Mensagem'])\n",
    "irrelevant_review_probability = len(test_irr['Mensagem'])/len(test_all['Mensagem'])"
   ]
  },
  {
   "cell_type": "code",
   "execution_count": 434,
   "metadata": {},
   "outputs": [],
   "source": [
    "def Classificador_Teste(phrase) -> int:\n",
    "    phrase = cleanup(phrase)\n",
    "    phrase = limpaStopwords(phrase)\n",
    "    words_in_review = phrase.split()\n",
    "    prob_positive = 1\n",
    "    prob_negative = 1\n",
    "    prob_irrelevant = 1\n",
    "    for word in words_in_review:\n",
    "        if word in all_words_positive:\n",
    "            prob_positive *= word_probability_positive[word]/word_probability_total[word]\n",
    "        if word in all_words_negative:\n",
    "            prob_negative *= word_probability_negative[word]/word_probability_total[word]\n",
    "        if word in all_words_irrelevant:\n",
    "            prob_irrelevant *= word_probability_irrelevant[word]/word_probability_total[word]\n",
    "\n",
    "    prob_positive *= positive_review_probability\n",
    "    prob_negative *= negative_review_probability\n",
    "    prob_irrelevant *= irrelevant_review_probability\n",
    "\n",
    "    chances = [prob_positive,prob_negative,prob_irrelevant]\n",
    "    if prob_positive == max(chances):\n",
    "        return 1\n",
    "    if prob_negative == max(chances):\n",
    "        return 2\n",
    "    if prob_irrelevant == max(chances):\n",
    "        return 0"
   ]
  },
  {
   "cell_type": "code",
   "execution_count": 435,
   "metadata": {},
   "outputs": [
    {
     "data": {
      "text/html": [
       "<div>\n",
       "<style scoped>\n",
       "    .dataframe tbody tr th:only-of-type {\n",
       "        vertical-align: middle;\n",
       "    }\n",
       "\n",
       "    .dataframe tbody tr th {\n",
       "        vertical-align: top;\n",
       "    }\n",
       "\n",
       "    .dataframe thead th {\n",
       "        text-align: right;\n",
       "    }\n",
       "</style>\n",
       "<table border=\"1\" class=\"dataframe\">\n",
       "  <thead>\n",
       "    <tr style=\"text-align: right;\">\n",
       "      <th>col_0</th>\n",
       "      <th>0</th>\n",
       "      <th>1</th>\n",
       "      <th>2</th>\n",
       "    </tr>\n",
       "    <tr>\n",
       "      <th>Target</th>\n",
       "      <th></th>\n",
       "      <th></th>\n",
       "      <th></th>\n",
       "    </tr>\n",
       "  </thead>\n",
       "  <tbody>\n",
       "    <tr>\n",
       "      <th>0</th>\n",
       "      <td>18.0</td>\n",
       "      <td>0.8</td>\n",
       "      <td>0.0</td>\n",
       "    </tr>\n",
       "    <tr>\n",
       "      <th>1</th>\n",
       "      <td>0.0</td>\n",
       "      <td>3.6</td>\n",
       "      <td>0.0</td>\n",
       "    </tr>\n",
       "    <tr>\n",
       "      <th>2</th>\n",
       "      <td>4.0</td>\n",
       "      <td>20.4</td>\n",
       "      <td>53.2</td>\n",
       "    </tr>\n",
       "  </tbody>\n",
       "</table>\n",
       "</div>"
      ],
      "text/plain": [
       "col_0      0     1     2\n",
       "Target                  \n",
       "0       18.0   0.8   0.0\n",
       "1        0.0   3.6   0.0\n",
       "2        4.0  20.4  53.2"
      ]
     },
     "execution_count": 435,
     "metadata": {},
     "output_type": "execute_result"
    }
   ],
   "source": [
    "bot_test = []\n",
    "for review in test_all['Mensagem']:\n",
    "    classification = Classificador_Treino(review)\n",
    "    bot_test.append(classification)\n",
    "pd.crosstab(test['Target'],bot_test,normalize=True)*100"
   ]
  },
  {
   "cell_type": "markdown",
   "metadata": {},
   "source": [
    "___\n",
    "### Concluindo"
   ]
  },
  {
   "cell_type": "code",
   "execution_count": null,
   "metadata": {},
   "outputs": [],
   "source": []
  },
  {
   "cell_type": "code",
   "execution_count": null,
   "metadata": {},
   "outputs": [],
   "source": []
  },
  {
   "cell_type": "code",
   "execution_count": null,
   "metadata": {},
   "outputs": [],
   "source": []
  },
  {
   "cell_type": "markdown",
   "metadata": {},
   "source": [
    "___\n",
    "### Qualidade do Classificador a partir de novas separações dos tweets entre Treinamento e Teste\n",
    "\n",
    "Caso for fazer esse item do Projeto"
   ]
  },
  {
   "cell_type": "code",
   "execution_count": null,
   "metadata": {},
   "outputs": [],
   "source": []
  },
  {
   "cell_type": "code",
   "execution_count": null,
   "metadata": {},
   "outputs": [],
   "source": []
  },
  {
   "cell_type": "code",
   "execution_count": null,
   "metadata": {},
   "outputs": [],
   "source": []
  },
  {
   "cell_type": "markdown",
   "metadata": {},
   "source": [
    "___\n",
    "## Aperfeiçoamento:\n",
    "\n",
    "Trabalhos que conseguirem pelo menos conceito B vão evoluir em conceito dependendo da quantidade de itens avançados:\n",
    "\n",
    "* IMPLEMENTOU outras limpezas e transformações que não afetem a qualidade da informação contida nos tweets. Ex: stemming, lemmatization, stopwords\n",
    "* CONSIDEROU mais de duas categorias na variável Target e INCREMENTOU a quantidade de notícias, mantendo pelo menos 250 notícias por categoria (OBRIGATÓRIO PARA TRIOS, sem contar como item avançado)\n",
    "* Para Target com duas categorias: CRIOU pelo menos quatro categorias intermediárias de relevância baseadas na probabilidade: ex.: muito relevante, relevante, neutro, irrelevante, muito irrelevante\n",
    "* EXPLICOU porquê não pode usar o próprio classificador para gerar mais amostras de treinamento\n",
    "* PROPÔS diferentes cenários para Naïve Bayes fora do contexto do projeto (pelo menos dois cenários, exceto aqueles já apresentados em sala pelos professores: por exemplo, filtro de spam)\n",
    "* SUGERIU e EXPLICOU melhorias reais com indicações concretas de como implementar (indicar como fazer e indicar material de pesquisa)\n",
    "* FEZ o item Qualidade do Classificador a partir de novas separações das Notícias entre Treinamento e Teste descrito no enunciado do projeto (OBRIGATÓRIO para conceitos A ou A+)"
   ]
  },
  {
   "cell_type": "markdown",
   "metadata": {},
   "source": [
    "___\n",
    "## Referências"
   ]
  },
  {
   "cell_type": "markdown",
   "metadata": {},
   "source": [
    "[Naive Bayes and Text Classification](https://arxiv.org/pdf/1410.5329.pdf)  **Mais completo**\n",
    "\n",
    "[A practical explanation of a Naive Bayes Classifier](https://monkeylearn.com/blog/practical-explanation-naive-bayes-classifier/) **Mais simples**"
   ]
  },
  {
   "cell_type": "code",
   "execution_count": null,
   "metadata": {},
   "outputs": [],
   "source": []
  }
 ],
 "metadata": {
  "kernelspec": {
   "display_name": "Python 3",
   "language": "python",
   "name": "python3"
  },
  "language_info": {
   "codemirror_mode": {
    "name": "ipython",
    "version": 3
   },
   "file_extension": ".py",
   "mimetype": "text/x-python",
   "name": "python",
   "nbconvert_exporter": "python",
   "pygments_lexer": "ipython3",
   "version": "3.9.12"
  }
 },
 "nbformat": 4,
 "nbformat_minor": 4
}
